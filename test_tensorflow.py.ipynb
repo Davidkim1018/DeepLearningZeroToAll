{
 "cells": [
  {
   "cell_type": "code",
   "execution_count": 2,
   "metadata": {},
   "outputs": [
    {
     "name": "stdout",
     "output_type": "stream",
     "text": [
      "b'Hellow Tensorflow'\n"
     ]
    }
   ],
   "source": [
    "import tensorflow as tf\n",
    "\n",
    "hello = tf.constant(\"Hellow Tensorflow\")\n",
    "sess = tf.Session()\n",
    "print(sess.run(hello))"
   ]
  },
  {
   "cell_type": "code",
   "execution_count": 8,
   "metadata": {},
   "outputs": [
    {
     "name": "stdout",
     "output_type": "stream",
     "text": [
      "node1: Tensor(\"Const_12:0\", shape=(), dtype=float64) node2 Tensor(\"Const_13:0\", shape=(), dtype=float64)\n",
      "node3: Tensor(\"Add_5:0\", shape=(), dtype=float64)\n",
      "(node1),(node2):  (3.0, 4.0)\n",
      "node3:  7.0\n"
     ]
    }
   ],
   "source": [
    "node1 = tf.constant(3.0, tf.float64)\n",
    "node2 = tf.constant(4.0, tf.float64)\n",
    "node3 = tf.add(node1, node2)\n",
    "\n",
    "print(\"node1:\",node1,\"node2\",node2)\n",
    "print(\"node3:\",node3)\n",
    "\n",
    "sess = tf.Session()\n",
    "print(\"(node1),(node2): \", sess.run((node1, node2)))\n",
    "print(\"node3: \", sess.run(node3))"
   ]
  },
  {
   "cell_type": "code",
   "execution_count": 9,
   "metadata": {},
   "outputs": [
    {
     "name": "stdout",
     "output_type": "stream",
     "text": [
      "7.0\n",
      "[ 3.  7.]\n"
     ]
    }
   ],
   "source": [
    "a = tf.placeholder(tf.float64)\n",
    "b = tf.placeholder(tf.float64)\n",
    "add_node = a+b\n",
    "\n",
    "print(sess.run(add_node, feed_dict={a : 3.0 , b : 4.0}))\n",
    "print(sess.run(add_node, feed_dict={a : [1,3], b:[2,4]}))\n"
   ]
  },
  {
   "cell_type": "code",
   "execution_count": null,
   "metadata": {
    "collapsed": true
   },
   "outputs": [],
   "source": []
  }
 ],
 "metadata": {
  "kernelspec": {
   "display_name": "Python 3",
   "language": "python",
   "name": "python3"
  },
  "language_info": {
   "codemirror_mode": {
    "name": "ipython",
    "version": 3
   },
   "file_extension": ".py",
   "mimetype": "text/x-python",
   "name": "python",
   "nbconvert_exporter": "python",
   "pygments_lexer": "ipython3",
   "version": "3.6.0"
  }
 },
 "nbformat": 4,
 "nbformat_minor": 2
}
